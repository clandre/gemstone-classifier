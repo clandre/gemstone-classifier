{
  "cells": [
    {
      "cell_type": "code",
      "execution_count": null,
      "metadata": {
        "id": "6ZR7E1txi03H"
      },
      "outputs": [],
      "source": [
        "! pip install nni # install nni\n",
        "! wget https://bin.equinox.io/c/4VmDzA7iaHb/ngrok-stable-linux-amd64.zip # download ngrok and unzip it\n",
        "! unzip ngrok-stable-linux-amd64.zip\n",
        "! mkdir -p nni_repo\n",
        "! git clone https://github.com/microsoft/nni.git nni_repo/nni # clone NNI's offical repo to get examples"
      ]
    },
    {
      "cell_type": "code",
      "execution_count": null,
      "metadata": {
        "id": "xPICrLfVAXtc"
      },
      "outputs": [],
      "source": [
        "!pip install boto3 pyyaml h5py nni[SMAC]"
      ]
    },
    {
      "cell_type": "code",
      "execution_count": null,
      "metadata": {
        "id": "A-mLnQNSLye8"
      },
      "outputs": [],
      "source": [
        "%tensorflow_version 2.x"
      ]
    },
    {
      "cell_type": "code",
      "execution_count": null,
      "metadata": {
        "id": "iG_TM6t7ASD9"
      },
      "outputs": [],
      "source": [
        "import os\n",
        "import boto3\n",
        "import yaml\n",
        "from google.colab import files"
      ]
    },
    {
      "cell_type": "code",
      "execution_count": null,
      "metadata": {
        "id": "61wG-vIxAiuM"
      },
      "outputs": [],
      "source": [
        "image_path = \"output/\""
      ]
    },
    {
      "cell_type": "code",
      "execution_count": null,
      "metadata": {
        "id": "Bvwp74jG_pQa"
      },
      "outputs": [],
      "source": [
        "with open(\"config.yaml\", \"r\") as stream:\n",
        "    try:\n",
        "        config = yaml.safe_load(stream)        \n",
        "    except yaml.YAMLError as e:\n",
        "        print(e)\n",
        "\n",
        "\n",
        "s3 = boto3.resource(\"s3\", \n",
        "                    aws_access_key_id = config[\"S3\"][\"AWS_ACCESS_KEY_ID\"],\n",
        "                    aws_secret_access_key = config[\"S3\"][\"AWS_SECRET_ACCESS_KEY\"]\n",
        "                    )\n",
        "bucket = s3.Bucket(config[\"S3\"][\"BUCKET\"])\n",
        "\n",
        "for bucket_object in bucket.objects.all():\n",
        "    try:\n",
        "        filename = bucket_object.key.strip()\n",
        "        if filename.startswith(image_path) and not(filename.endswith(\".json\")):\n",
        "            if len(filename.split('/')) == 4:\n",
        "                _, folder, gemstone, name = filename.split('/')\n",
        "                # Check if is a file\n",
        "                if name != '':\n",
        "                    path = \"/\".join(filename.split(\"/\")[0:3])\n",
        "                    os.makedirs(path, exist_ok=True)\n",
        "                    bucket.download_file(filename, filename)\n",
        "    except Exception as e:\n",
        "        print(\"Can't download file: \" + filename)\n",
        "        print(e)\n"
      ]
    },
    {
      "cell_type": "code",
      "execution_count": null,
      "metadata": {
        "id": "cWBI4Q_5i6N1"
      },
      "outputs": [],
      "source": [
        "! ./ngrok authtoken \"ngrok token\""
      ]
    },
    {
      "cell_type": "markdown",
      "source": [
        "### Start experiment"
      ],
      "metadata": {
        "id": "WSqstptXf0wR"
      }
    },
    {
      "cell_type": "code",
      "execution_count": null,
      "metadata": {
        "id": "AjjRiWq9jWiN"
      },
      "outputs": [],
      "source": [
        "! nnictl create --config config.yml --port 5000 &\n",
        "get_ipython().system_raw('./ngrok http 5000 &')"
      ]
    },
    {
      "cell_type": "code",
      "execution_count": null,
      "metadata": {
        "id": "U8NiQqw1jZPl"
      },
      "outputs": [],
      "source": [
        "! curl -H \"Content-Type: application/json\" -s http://localhost:4040/api/tunnels # don't change the port number 4040"
      ]
    },
    {
      "cell_type": "code",
      "execution_count": null,
      "metadata": {
        "id": "meouSVM1uXEJ"
      },
      "outputs": [],
      "source": [
        "while True:pass"
      ]
    },
    {
      "cell_type": "markdown",
      "source": [
        "### Compress files"
      ],
      "metadata": {
        "id": "HSrtlO8gfqFl"
      }
    },
    {
      "cell_type": "code",
      "source": [
        "%%bash\n",
        "\n",
        "for dir in /content/2022*/   # list directories in the form \"/tmp/dirname/\"\n",
        "do       \n",
        "    dir=${dir%*/} \n",
        "    zip -r \"${dir}.zip\" \"${dir}\"\n",
        "done\n",
        "\n",
        "for dir in /content/*.h5.zip   # list directories in the form \"/tmp/dirname/\"\n",
        "do       \n",
        "    zip -r \"models.zip\" \"${dir}\"\n",
        "done\n"
      ],
      "metadata": {
        "id": "RP_TbzOgXGWO"
      },
      "execution_count": null,
      "outputs": []
    },
    {
      "cell_type": "code",
      "source": [
        "! zip -r /content/nni_experiments.zip /root/nni-experiments/"
      ],
      "metadata": {
        "id": "jdPxSU-2a957"
      },
      "execution_count": null,
      "outputs": []
    },
    {
      "cell_type": "code",
      "source": [
        "files.download( \"//content/nni_experiments.zip\")"
      ],
      "metadata": {
        "id": "RM3CzCGGMmtX"
      },
      "execution_count": null,
      "outputs": []
    },
    {
      "cell_type": "markdown",
      "source": [
        "### Stop experiment"
      ],
      "metadata": {
        "id": "4oGfXejOfjV9"
      }
    },
    {
      "cell_type": "code",
      "execution_count": null,
      "metadata": {
        "id": "T2bQQNSv-Ep5"
      },
      "outputs": [],
      "source": [
        "# ! nnictl stop --all"
      ]
    }
  ],
  "metadata": {
    "accelerator": "GPU",
    "colab": {
      "collapsed_sections": [],
      "machine_shape": "hm",
      "name": "NNI.ipynb",
      "provenance": []
    },
    "kernelspec": {
      "display_name": "Python 3",
      "name": "python3"
    },
    "language_info": {
      "name": "python"
    }
  },
  "nbformat": 4,
  "nbformat_minor": 0
}